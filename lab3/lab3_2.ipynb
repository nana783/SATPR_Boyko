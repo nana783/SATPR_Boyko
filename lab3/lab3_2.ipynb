{
 "cells": [
  {
   "cell_type": "code",
   "execution_count": 71,
   "metadata": {},
   "outputs": [],
   "source": [
    "from anytree import Node, RenderTree\n",
    "\n",
    "# Функція для обчислення очікуваного доходу для кожного варіанту\n",
    "def expected_income(prob_high_demand, prob_low_demand, high_income, low_income):\n",
    "    return prob_high_demand * high_income + prob_low_demand * low_income\n",
    "\n"
   ]
  },
  {
   "cell_type": "code",
   "execution_count": 72,
   "metadata": {},
   "outputs": [],
   "source": [
    "# Створення вершин для кожного варіанту\n",
    "root = Node(\"Start\")\n",
    "\n",
    "# Варіант A\n",
    "A = Node(\"Build Large Plant (A)\", parent=root)\n",
    "A_high_demand = Node(\"High Demand\", parent=A, income=expected_income(0.7, 0.3, 250000, -50000))\n",
    "A_low_demand = Node(\"Low Demand\", parent=A, income=expected_income(0.3, 0.7, 25000, -50000))\n",
    "\n",
    "# Варіант B\n",
    "B = Node(\"Build Small Plant (B)\", parent=root)\n",
    "B_high_demand = Node(\"High Demand\", parent=B, income=expected_income(0.7, 0.3, 150000, -25000))\n",
    "B_low_demand = Node(\"Low Demand\", parent=B, income=expected_income(0.3, 0.7, 25000, -25000))\n",
    "\n",
    "# Варіант C\n",
    "C = Node(\"Postpone Decision (C)\", parent=root)\n",
    "C_positive_info = Node(\"Positive Information\", parent=C)\n",
    "C_large_plant = Node(\"Build Large Plant (A)\", parent=C_positive_info, income=expected_income(0.9, 0.1, 250000, -50000))\n",
    "C_small_plant = Node(\"Build Small Plant (B)\", parent=C_positive_info, income=expected_income(0.9, 0.1, 150000, -25000))\n",
    "C_negative_info = Node(\"Negative Information\", parent=C, income=0)  # No income if decision postponed"
   ]
  },
  {
   "cell_type": "code",
   "execution_count": 73,
   "metadata": {},
   "outputs": [
    {
     "name": "stdout",
     "output_type": "stream",
     "text": [
      "Start\n",
      "├── Build Large Plant (A)\n",
      "│   ├── High Demand\n",
      "│   └── Low Demand\n",
      "├── Build Small Plant (B)\n",
      "│   ├── High Demand\n",
      "│   └── Low Demand\n",
      "└── Postpone Decision (C)\n",
      "    ├── Positive Information\n",
      "    │   ├── Build Large Plant (A)\n",
      "    │   └── Build Small Plant (B)\n",
      "    └── Negative Information\n"
     ]
    }
   ],
   "source": [
    "# Виведення дерева\n",
    "for pre, _, node in RenderTree(root):\n",
    "    print(f\"{pre}{node.name}\")"
   ]
  },
  {
   "cell_type": "code",
   "execution_count": 74,
   "metadata": {},
   "outputs": [
    {
     "name": "stdout",
     "output_type": "stream",
     "text": [
      "\n",
      "Найбільш ефективний варіант: Build Large Plant (A), Очікуваний дохід: 220000.0\n"
     ]
    }
   ],
   "source": [
    "# Знайдемо найбільш ефективний варіант\n",
    "max_income_node = max([A_high_demand, A_low_demand, B_high_demand, B_low_demand, C_large_plant, C_small_plant, C_negative_info], key=lambda x: x.income)\n",
    "print(f\"\\nНайбільш ефективний варіант: {max_income_node.name}, Очікуваний дохід: {max_income_node.income}\")"
   ]
  },
  {
   "cell_type": "code",
   "execution_count": 75,
   "metadata": {},
   "outputs": [
    {
     "name": "stdout",
     "output_type": "stream",
     "text": [
      "Дохід при виборі варіанту A:\n",
      "├── High Demand, Очікуваний дохід: 160000.0\n",
      "└── Low Demand, Очікуваний дохід: -27500.0\n",
      "\n",
      "Дохід при виборі варіанту B:\n",
      "├── High Demand, Очікуваний дохід: 97500.0\n",
      "└── Low Demand, Очікуваний дохід: -10000.0\n",
      "\n",
      "Дохід при виборі варіанту C (позитив):\n",
      "├── Build Large Plant (A), Очікуваний дохід: 220000.0\n",
      "└── Build Small Plant (B), Очікуваний дохід: 132500.0\n",
      "\n",
      "Дохід при виборі варіанту C (негатив):\n",
      "Postpone Decision (C), Очікуваний дохід: 0\n"
     ]
    }
   ],
   "source": [
    "# Виведення доходу при виборі кожного варіанту\n",
    "print(\"Дохід при виборі варіанту A:\")\n",
    "for pre, _, node in RenderTree(A):\n",
    "    if hasattr(node, 'income'):\n",
    "        print(f\"{pre}{node.name}, Очікуваний дохід: {node.income}\")\n",
    "\n",
    "print(\"\\nДохід при виборі варіанту B:\")\n",
    "for pre, _, node in RenderTree(B):\n",
    "    if hasattr(node, 'income'):\n",
    "        print(f\"{pre}{node.name}, Очікуваний дохід: {node.income}\")\n",
    "\n",
    "print(\"\\nДохід при виборі варіанту C (позитив):\")\n",
    "for pre, _, node in RenderTree(C_positive_info):\n",
    "    if hasattr(node, 'income'):\n",
    "        print(f\"{pre}{node.name}, Очікуваний дохід: {node.income}\")\n",
    "\n",
    "print(\"\\nДохід при виборі варіанту C (негатив):\")\n",
    "print(f\"Postpone Decision (C), Очікуваний дохід: {C_negative_info.income}\")"
   ]
  }
 ],
 "metadata": {
  "kernelspec": {
   "display_name": "base",
   "language": "python",
   "name": "python3"
  },
  "language_info": {
   "codemirror_mode": {
    "name": "ipython",
    "version": 3
   },
   "file_extension": ".py",
   "mimetype": "text/x-python",
   "name": "python",
   "nbconvert_exporter": "python",
   "pygments_lexer": "ipython3",
   "version": "3.11.5"
  }
 },
 "nbformat": 4,
 "nbformat_minor": 2
}
