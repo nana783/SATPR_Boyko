{
 "cells": [
  {
   "cell_type": "code",
   "execution_count": 21,
   "metadata": {},
   "outputs": [],
   "source": [
    "from anytree import Node, RenderTree\n",
    "\n",
    "# Створення вузлів дерева рішень\n",
    "root = Node(\"Start\")\n",
    "node_B = Node(\"B\", parent=root)\n",
    "node_N = Node(\"N\", parent=root)\n",
    "\n",
    "node_BB = Node(\"-2500\", parent=node_B)\n",
    "node_BN = Node(\"1000\", parent=node_B)\n",
    "\n",
    "node_NB = Node(\"800\", parent=node_N)\n",
    "node_NN = Node(\"200\", parent=node_N)\n"
   ]
  },
  {
   "cell_type": "code",
   "execution_count": 22,
   "metadata": {},
   "outputs": [],
   "source": [
    "\n",
    "# Ймовірності зупинки в кожній області\n",
    "prob_stop_B = 0.3  # Ймовірність зупинки при сильному обертанні\n",
    "prob_stop_N = 0.7  # Ймовірність зупинки при слабкому обертанні\n",
    "\n",
    "# Розрахунок ймовірностей та очікуваного значення прибутку\n",
    "prob_B = 0.5  # Ймовірність сильного обертання\n",
    "prob_N = 0.5  # Ймовірність слабкого обертання"
   ]
  },
  {
   "cell_type": "code",
   "execution_count": 23,
   "metadata": {},
   "outputs": [],
   "source": [
    "expected_value_B = prob_stop_B * int(node_BB.name) + (1 - prob_stop_B) * int(node_BN.name)\n",
    "expected_value_N = prob_stop_N * int(node_NB.name) + (1 - prob_stop_N) * int(node_NN.name)"
   ]
  },
  {
   "cell_type": "code",
   "execution_count": 24,
   "metadata": {},
   "outputs": [
    {
     "name": "stdout",
     "output_type": "stream",
     "text": [
      "Start\n",
      "├── B\n",
      "│   ├── -2500\n",
      "│   └── 1000\n",
      "└── N\n",
      "    ├── 800\n",
      "    └── 200\n"
     ]
    }
   ],
   "source": [
    "# Виведення дерева рішень\n",
    "for pre, _, node in RenderTree(root):\n",
    "    print(\"%s%s\" % (pre, node.name))"
   ]
  },
  {
   "cell_type": "code",
   "execution_count": 25,
   "metadata": {},
   "outputs": [
    {
     "name": "stdout",
     "output_type": "stream",
     "text": [
      "\n",
      "Expected Value of Profit for Strong Rotation (B): -50.0\n",
      "Expected Value of Profit for Weak Rotation (N): 620.0\n"
     ]
    }
   ],
   "source": [
    "# Виведення очікуваного значення прибутку\n",
    "print(\"\\nExpected Value of Profit for Strong Rotation (B):\", expected_value_B)\n",
    "print(\"Expected Value of Profit for Weak Rotation (N):\", expected_value_N)"
   ]
  }
 ],
 "metadata": {
  "kernelspec": {
   "display_name": "base",
   "language": "python",
   "name": "python3"
  },
  "language_info": {
   "codemirror_mode": {
    "name": "ipython",
    "version": 3
   },
   "file_extension": ".py",
   "mimetype": "text/x-python",
   "name": "python",
   "nbconvert_exporter": "python",
   "pygments_lexer": "ipython3",
   "version": "3.11.5"
  }
 },
 "nbformat": 4,
 "nbformat_minor": 2
}
