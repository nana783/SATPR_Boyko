{
 "cells": [
  {
   "cell_type": "markdown",
   "metadata": {},
   "source": [
    "Завдання 7. Метод північно-західного кута"
   ]
  },
  {
   "cell_type": "code",
   "execution_count": 13,
   "metadata": {},
   "outputs": [],
   "source": [
    "import numpy as np"
   ]
  },
  {
   "cell_type": "code",
   "execution_count": 7,
   "metadata": {},
   "outputs": [],
   "source": [
    "# Задані дані\n",
    "supply = np.array([230, 250, 170])\n",
    "demand = np.array([140, 90, 160, 110, 150])"
   ]
  },
  {
   "cell_type": "code",
   "execution_count": 8,
   "metadata": {},
   "outputs": [],
   "source": [
    "def north_west_corner(supply, demand):\n",
    "    # Копії масивів початкових запасів та потреб\n",
    "    supply_copy = supply.copy()\n",
    "    demand_copy = demand.copy()\n",
    "\n",
    "    # Індекси поточних рядка та стовпця\n",
    "    i = 0\n",
    "    j = 0\n",
    "\n",
    "    # Список для зберігання кількостей перевезень та їх координат\n",
    "    bfs = []\n",
    "\n",
    "    # Поки не визначено кількість перевезень для всіх шляхів\n",
    "    while len(bfs) < len(supply) + len(demand) - 1:\n",
    "        # Визначення обсягу перевезення для поточного шляху\n",
    "        s = supply_copy[i]\n",
    "        d = demand_copy[j]\n",
    "        v = min(s, d)\n",
    "\n",
    "        # Віднімання перевезеного обсягу від запасу та потреби\n",
    "        supply_copy[i] -= v\n",
    "        demand_copy[j] -= v\n",
    "\n",
    "        # Додавання інформації про перевезення у список\n",
    "        bfs.append(((i, j), v))\n",
    "\n",
    "        # Перевірка, чи поточний запас вичерпано, та зміна індексу рядка\n",
    "        if supply_copy[i] == 0 and i < len(supply) - 1:\n",
    "            i += 1\n",
    "        # Перевірка, чи поточна потреба вичерпана, та зміна індексу стовпця\n",
    "        elif demand_copy[j] == 0 and j < len(demand) - 1:\n",
    "            j += 1\n",
    "\n",
    "    # Повертаємо список перевезень та їх кількостей\n",
    "    return bfs\n"
   ]
  },
  {
   "cell_type": "code",
   "execution_count": 9,
   "metadata": {},
   "outputs": [
    {
     "name": "stdout",
     "output_type": "stream",
     "text": [
      "[((0, 0), 140), ((0, 1), 90), ((1, 1), 0), ((1, 2), 160), ((1, 3), 90), ((2, 3), 20), ((2, 4), 150)]\n"
     ]
    }
   ],
   "source": [
    "bfs = north_west_corner(supply, demand)\n",
    "print(bfs)"
   ]
  },
  {
   "cell_type": "markdown",
   "metadata": {},
   "source": [
    "Завдання 4. Метод потенціалів"
   ]
  },
  {
   "cell_type": "code",
   "execution_count": 1,
   "metadata": {},
   "outputs": [],
   "source": [
    "from pulp import *"
   ]
  },
  {
   "cell_type": "code",
   "execution_count": 2,
   "metadata": {},
   "outputs": [],
   "source": [
    "# список всіх вузлів постачання\n",
    "warehouses = [\"A\", \"B\", \"C\"]\n",
    "\n",
    "# словник для кількості одиниць постачання для кожного вузла постачання\n",
    "supply = {\"A\": 300, \"B\": 250, \"C\":200}\n",
    "\n",
    "# список всіх вузлів отримання\n",
    "projects = [\"1\", \"2\", \"3\", \"4\", \"5\"]\n",
    "\n",
    "# словник для кількості одиниць вимог для кожного вузла отримання\n",
    "demand = {\n",
    "    \"1\": 210,\n",
    "    \"2\": 150,\n",
    "    \"3\": 120,\n",
    "    \"4\": 135,\n",
    "    \"5\": 135,\n",
    "}\n",
    "\n",
    "# список вартостей кожного шляху перевезення\n",
    "costs = [  # Проекти\n",
    "    [4,8,13,2,7],  # A   Склади\n",
    "    [9,4,11,9,17],  # B\n",
    "    [3,16,10,1,4]   # C\n",
    "]\n",
    "\n",
    "# Дані про вартість перетворюються в словник\n",
    "costs = makeDict([warehouses, projects], costs, 0)"
   ]
  },
  {
   "cell_type": "code",
   "execution_count": 3,
   "metadata": {},
   "outputs": [
    {
     "name": "stderr",
     "output_type": "stream",
     "text": [
      "c:\\ida\\Lib\\site-packages\\pulp\\pulp.py:1352: UserWarning: Spaces are not permitted in the name. Converted to '_'\n",
      "  warnings.warn(\"Spaces are not permitted in the name. Converted to '_'\")\n"
     ]
    }
   ],
   "source": [
    "# об'єкт 'prob' для збереження даних задачі\n",
    "prob = LpProblem(\"Material Supply Problem\", LpMinimize)"
   ]
  },
  {
   "cell_type": "code",
   "execution_count": 4,
   "metadata": {},
   "outputs": [],
   "source": [
    "# список кортежів, що містять всі можливі маршрути для транспорту\n",
    "Routes = [(w, b) for w in warehouses for b in projects]\n",
    "\n",
    "# словник, що містить змінні, на які посилаються (маршрути)\n",
    "vars = LpVariable.dicts(\"Route\", (warehouses, projects), 0, None, LpInteger)"
   ]
  },
  {
   "cell_type": "code",
   "execution_count": 5,
   "metadata": {},
   "outputs": [],
   "source": [
    "#  Мінімізація цільової функції - вартість перевезень\n",
    "prob += (\n",
    "    lpSum([vars[w][b] * costs[w][b] for (w, b) in Routes]),\n",
    "    \"Sum_of_Transporting_Costs\",\n",
    ")"
   ]
  },
  {
   "cell_type": "code",
   "execution_count": 6,
   "metadata": {},
   "outputs": [],
   "source": [
    "# Додаються обмеження максимальних обсягів постачання для кожного вузла постачання (складу)\n",
    "for w in warehouses:\n",
    "    prob += (\n",
    "        lpSum([vars[w][b] for b in projects]) <= supply[w],\n",
    "        \"Sum_of_Products_out_of_warehouses_%s\" % w,\n",
    "    )\n",
    "\n",
    "# Додаються обмеження мінімальних обсягів вимог для кожного вузла вимог (проекту)\n",
    "for b in projects:\n",
    "    prob += (\n",
    "        lpSum([vars[w][b] for w in warehouses]) >= demand[b],\n",
    "        \"Sum_of_Products_into_projects%s\" % b,\n",
    "    )"
   ]
  },
  {
   "cell_type": "code",
   "execution_count": 7,
   "metadata": {},
   "outputs": [
    {
     "name": "stdout",
     "output_type": "stream",
     "text": [
      "Route_A_1 = 165.0\n",
      "Route_A_2 = 0.0\n",
      "Route_A_3 = 0.0\n",
      "Route_A_4 = 135.0\n",
      "Route_A_5 = 0.0\n",
      "Route_B_1 = 0.0\n",
      "Route_B_2 = 150.0\n",
      "Route_B_3 = 100.0\n",
      "Route_B_4 = 0.0\n",
      "Route_B_5 = 0.0\n",
      "Route_C_1 = 45.0\n",
      "Route_C_2 = 0.0\n",
      "Route_C_3 = 20.0\n",
      "Route_C_4 = 0.0\n",
      "Route_C_5 = 135.0\n",
      "Value of Objective Function =  3505.0\n"
     ]
    }
   ],
   "source": [
    "    # Розв'язання задачі за допомогою PuLP\n",
    "    prob.solve()\n",
    "\n",
    "    # Виведення значень оптимізованих змінних\n",
    "    for v in prob.variables():\n",
    "        print(v.name, \"=\", v.varValue)\n",
    "        \n",
    "    # Виведення оптимізованого значення цільової функції на екран\n",
    "    print(\"Value of Objective Function = \", value(prob.objective))"
   ]
  }
 ],
 "metadata": {
  "kernelspec": {
   "display_name": "base",
   "language": "python",
   "name": "python3"
  },
  "language_info": {
   "codemirror_mode": {
    "name": "ipython",
    "version": 3
   },
   "file_extension": ".py",
   "mimetype": "text/x-python",
   "name": "python",
   "nbconvert_exporter": "python",
   "pygments_lexer": "ipython3",
   "version": "3.11.5"
  }
 },
 "nbformat": 4,
 "nbformat_minor": 2
}
